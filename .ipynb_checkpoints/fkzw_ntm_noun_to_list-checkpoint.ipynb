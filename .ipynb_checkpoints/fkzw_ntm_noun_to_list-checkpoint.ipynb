{
 "cells": [
  {
   "cell_type": "code",
   "execution_count": 2,
   "metadata": {},
   "outputs": [
    {
     "name": "stdout",
     "output_type": "stream",
     "text": [
      "<class '_io.TextIOWrapper'>\n"
     ]
    }
   ],
   "source": [
    "#福沢の名詞を改行で分割\n",
    "import csv\n",
    "with open('fukuzawa_just_noun.csv') as f_just_nouns:\n",
    "    text = list(f_just_nouns)\n",
    "    #devided_text = text.splitlines()\n",
    "    f_replace = [s.replace('\\n', '') for s in text]\n",
    "    \n",
    "with open('fukuzawa_just_noun_list.csv', 'a',newline='') as f_just_noun_list:\n",
    "    writer = csv.writer(f_just_noun_list)\n",
    "    writer.writerow(f_replace)\n",
    "    #print(f_replace)"
   ]
  },
  {
   "cell_type": "code",
   "execution_count": 15,
   "metadata": {},
   "outputs": [],
   "source": [
    "#夏目の名詞を改行で分割\n",
    "import csv\n",
    "with open('natsume_just_noun.csv') as n_just_nouns:\n",
    "    text = list(n_just_nouns)\n",
    "    #devided_text = text.splitlines()\n",
    "    n_replace = [s.replace('\\n', '') for s in text]\n",
    "    \n",
    "with open('natsume_just_noun_list.csv', 'a',newline='') as n_just_noun_list:\n",
    "    writer = csv.writer(n_just_noun_list)\n",
    "    writer.writerow(n_replace)\n",
    "    #print(f_replace)"
   ]
  },
  {
   "cell_type": "code",
   "execution_count": 1,
   "metadata": {},
   "outputs": [],
   "source": [
    "#関数化 名詞のリストを一行にする\n",
    "import csv\n",
    "def makeNounsList(many_columns_nounfile, onecolum_nounfile):\n",
    "    with open('{}.csv'.format(many_columns_nounfile)) as many_columns_nouns:\n",
    "        text = list(many_columns_nouns)\n",
    "        #devided_text = text.splitlines()\n",
    "        n_replace = [s.replace('\\n', '') for s in text]\n",
    "    \n",
    "    with open('{}.csv'.format(onecolum_nounfile), 'a',newline='') as one_colum_nouns:\n",
    "        writer = csv.writer(one_colum_nouns)\n",
    "        writer.writerow(n_replace)"
   ]
  },
  {
   "cell_type": "code",
   "execution_count": 4,
   "metadata": {},
   "outputs": [],
   "source": [
    "makeNounsList(\"natsume_just_noun\", \"natsume_test\")"
   ]
  },
  {
   "cell_type": "code",
   "execution_count": null,
   "metadata": {},
   "outputs": [],
   "source": []
  }
 ],
 "metadata": {
  "kernelspec": {
   "display_name": "Python 3",
   "language": "python",
   "name": "python3"
  },
  "language_info": {
   "codemirror_mode": {
    "name": "ipython",
    "version": 3
   },
   "file_extension": ".py",
   "mimetype": "text/x-python",
   "name": "python",
   "nbconvert_exporter": "python",
   "pygments_lexer": "ipython3",
   "version": "3.6.5"
  }
 },
 "nbformat": 4,
 "nbformat_minor": 2
}
