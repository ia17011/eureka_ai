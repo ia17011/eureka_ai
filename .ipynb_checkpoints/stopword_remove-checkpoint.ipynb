{
 "cells": [
  {
   "cell_type": "code",
   "execution_count": 22,
   "metadata": {},
   "outputs": [],
   "source": [
    "csv.field_size_limit(1000000000)\n",
    "\n",
    "import csv\n",
    "import itertools\n",
    "\n",
    "file_just_noun = \"dazai_wordsList.csv\"\n",
    "new_just_noun = \"p_noun_dazai.csv\"\n",
    "\n",
    "\n",
    "with open(file_just_noun,'r') as n_just_nouns:\n",
    "    reader = csv.reader(n_just_nouns)\n",
    "    word_list = []\n",
    "    for row in reader:\n",
    "        word_list.append(row)\n",
    "    \n",
    "    word_list = word_list[0]\n",
    "    #print(word_list)\n",
    "with open('slothlib_new.csv', 'r') as slothlib_new:\n",
    "    stopwords = csv.reader(slothlib_new)\n",
    "    \n",
    "    slothlib_list = []\n",
    "    for stopword in stopwords:\n",
    "        slothlib_list.append(stopword)\n",
    "\n",
    "a = word_list\n",
    "b = slothlib_list\n",
    "\n",
    "res = itertools.chain(*b)\n",
    "res = list(res)\n",
    "\n",
    "result = [x for x in a if x not in res]\n",
    "\n",
    "#print(result)\n",
    "with open(new_just_noun,'a', newline='') as p_ntm:\n",
    "    writer = csv.writer(p_ntm)\n",
    "    writer.writerow(result)"
   ]
  },
  {
   "cell_type": "code",
   "execution_count": 23,
   "metadata": {},
   "outputs": [],
   "source": [
    "\"\"\"\n",
    "a = word_list\n",
    "b = slothlib_list\n",
    "\n",
    "res = itertools.chain(*b)\n",
    "res = list(res)\n",
    "\n",
    "result = [x for x in a if x not in res]\n",
    "\n",
    "#print(result)\n",
    "with open(new_just_noun,'a', newline='') as p_ntm:\n",
    "    writer = csv.writer(p_ntm)\n",
    "    writer.writerow(result)\n",
    "\"\"\""
   ]
  },
  {
   "cell_type": "code",
   "execution_count": null,
   "metadata": {},
   "outputs": [],
   "source": []
  }
 ],
 "metadata": {
  "kernelspec": {
   "display_name": "Python 3",
   "language": "python",
   "name": "python3"
  },
  "language_info": {
   "codemirror_mode": {
    "name": "ipython",
    "version": 3
   },
   "file_extension": ".py",
   "mimetype": "text/x-python",
   "name": "python",
   "nbconvert_exporter": "python",
   "pygments_lexer": "ipython3",
   "version": "3.6.5"
  }
 },
 "nbformat": 4,
 "nbformat_minor": 2
}
