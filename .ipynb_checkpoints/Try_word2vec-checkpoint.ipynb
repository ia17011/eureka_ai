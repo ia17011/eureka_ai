{
 "cells": [
  {
   "cell_type": "code",
   "execution_count": 9,
   "metadata": {},
   "outputs": [
    {
     "name": "stdout",
     "output_type": "stream",
     "text": [
      "Requirement already satisfied: gensim in /home/k1r0hi/anaconda3/lib/python3.6/site-packages (3.5.0)\n",
      "Requirement already satisfied: six>=1.5.0 in /home/k1r0hi/anaconda3/lib/python3.6/site-packages (from gensim) (1.11.0)\n",
      "Requirement already satisfied: scipy>=0.18.1 in /home/k1r0hi/anaconda3/lib/python3.6/site-packages (from gensim) (1.1.0)\n",
      "Requirement already satisfied: numpy>=1.11.3 in /home/k1r0hi/anaconda3/lib/python3.6/site-packages (from gensim) (1.14.3)\n",
      "Requirement already satisfied: smart-open>=1.2.1 in /home/k1r0hi/anaconda3/lib/python3.6/site-packages (from gensim) (1.6.0)\n",
      "Requirement already satisfied: boto3 in /home/k1r0hi/anaconda3/lib/python3.6/site-packages (from smart-open>=1.2.1->gensim) (1.8.6)\n",
      "Requirement already satisfied: bz2file in /home/k1r0hi/anaconda3/lib/python3.6/site-packages (from smart-open>=1.2.1->gensim) (0.98)\n",
      "Requirement already satisfied: requests in /home/k1r0hi/anaconda3/lib/python3.6/site-packages (from smart-open>=1.2.1->gensim) (2.18.4)\n",
      "Requirement already satisfied: boto>=2.32 in /home/k1r0hi/anaconda3/lib/python3.6/site-packages (from smart-open>=1.2.1->gensim) (2.48.0)\n",
      "Requirement already satisfied: s3transfer<0.2.0,>=0.1.10 in /home/k1r0hi/anaconda3/lib/python3.6/site-packages (from boto3->smart-open>=1.2.1->gensim) (0.1.13)\n",
      "Requirement already satisfied: botocore<1.12.0,>=1.11.6 in /home/k1r0hi/anaconda3/lib/python3.6/site-packages (from boto3->smart-open>=1.2.1->gensim) (1.11.6)\n",
      "Requirement already satisfied: jmespath<1.0.0,>=0.7.1 in /home/k1r0hi/anaconda3/lib/python3.6/site-packages (from boto3->smart-open>=1.2.1->gensim) (0.9.3)\n",
      "Requirement already satisfied: chardet<3.1.0,>=3.0.2 in /home/k1r0hi/anaconda3/lib/python3.6/site-packages (from requests->smart-open>=1.2.1->gensim) (3.0.4)\n",
      "Requirement already satisfied: idna<2.7,>=2.5 in /home/k1r0hi/anaconda3/lib/python3.6/site-packages (from requests->smart-open>=1.2.1->gensim) (2.6)\n",
      "Requirement already satisfied: urllib3<1.23,>=1.21.1 in /home/k1r0hi/anaconda3/lib/python3.6/site-packages (from requests->smart-open>=1.2.1->gensim) (1.22)\n",
      "Requirement already satisfied: certifi>=2017.4.17 in /home/k1r0hi/anaconda3/lib/python3.6/site-packages (from requests->smart-open>=1.2.1->gensim) (2018.4.16)\n",
      "Requirement already satisfied: python-dateutil<3.0.0,>=2.1; python_version >= \"2.7\" in /home/k1r0hi/anaconda3/lib/python3.6/site-packages (from botocore<1.12.0,>=1.11.6->boto3->smart-open>=1.2.1->gensim) (2.7.3)\n",
      "Requirement already satisfied: docutils>=0.10 in /home/k1r0hi/anaconda3/lib/python3.6/site-packages (from botocore<1.12.0,>=1.11.6->boto3->smart-open>=1.2.1->gensim) (0.14)\n"
     ]
    }
   ],
   "source": [
    "!pip install gensim  #Word2Vecライブラリの導入\n",
    "from gensim.models import word2vec # Word2Vecライブラリのロード\n",
    "import csv\n",
    "\n",
    "def try_word2vec(nounlist_csv, vec_word, get_similar_word):\n",
    "\n",
    "    with open('{}.csv'.format(nounlist_csv),'r') as just_nouns:\n",
    "        reader = csv.reader(just_nouns)\n",
    "        #sentences = f_just_nouns.split(',')\n",
    "\n",
    "        word_list = []\n",
    "        for row in reader:\n",
    "            word_list.append(row)\n",
    "        #for sentence in sentences:\n",
    "        #word_list.append(sentence)\n",
    "\n",
    "    # 結果の一部を確認 \n",
    "    #for word in word_list[0]:\n",
    "        #print(word)\n",
    "    \n",
    "\n",
    "\n",
    "    # size: 圧縮次元数\n",
    "    # min_count: 出現頻度の低いものをカットする\n",
    "    # window: 前後の単語を拾う際の窓の広さを決める\n",
    "    # iter: 機械学習の繰り返し回数(デフォルト:5)十分学習できていないときにこの値を調整する\n",
    "    # model.wv.most_similarの結果が1に近いものばかりで、model.dict['wv']のベクトル値が小さい値ばかりのときは、学習回数が少ない。\n",
    "    # その場合、iterの値を大きくして、再度学習を行います。\n",
    "\n",
    "    # 事前準備したword_listを使ってWord2Vecの学習実施\n",
    "    model = word2vec.Word2Vec(word_list, size=100,min_count=3,window=5,iter=200)\n",
    "\n",
    "    print(model.__dict__['wv']['{}'.format(vec_word)])\n",
    "\n",
    "    ret = model.wv.most_similar(positive=['{}'.format(get_similar_word)]) \n",
    "    for item in ret:\n",
    "        print(item[0], item[1])"
   ]
  },
  {
   "cell_type": "code",
   "execution_count": 10,
   "metadata": {},
   "outputs": [
    {
     "name": "stdout",
     "output_type": "stream",
     "text": [
      "[ 3.9529796e-03  2.4886967e-03 -3.0326741e-04  3.2181840e-03\n",
      "  3.9120414e-03  2.2781412e-03  3.7770073e-03 -4.1447900e-04\n",
      " -4.7506504e-03  3.3625625e-03  4.8821946e-03  4.7621327e-03\n",
      " -2.1994312e-03  2.0704377e-03 -4.8470735e-03  2.3634944e-03\n",
      "  8.0295932e-04 -2.2680440e-03  1.4259259e-03  9.2511758e-04\n",
      " -1.7676591e-03  2.5075494e-04 -3.5355967e-03  2.4790196e-03\n",
      "  3.1927784e-03 -4.1461468e-04  3.8306375e-03 -2.9561238e-03\n",
      "  3.5803546e-03 -7.2774256e-04  2.9581566e-03  4.6920758e-03\n",
      " -3.4184284e-03 -4.0257261e-03  4.1305451e-03  7.9321297e-04\n",
      " -8.1361417e-04 -8.3271065e-04 -2.3026580e-03  8.6768402e-04\n",
      " -2.3247441e-03  4.2450475e-03 -3.7759729e-03 -4.6501087e-04\n",
      "  2.6376606e-03 -1.8062508e-03  3.7871338e-03  4.5040017e-03\n",
      "  1.3861767e-03 -2.7357235e-03 -3.9474466e-03  3.4480139e-03\n",
      "  4.6090898e-03  1.8267133e-03 -4.2897537e-03  4.1680564e-03\n",
      " -1.0518326e-03 -2.6217329e-03  8.7872701e-05  4.5795022e-03\n",
      " -3.9431904e-03  4.6043950e-03 -6.7268597e-04 -3.2742310e-03\n",
      " -3.8178761e-03 -2.3242994e-03 -1.4179135e-03  2.0954856e-03\n",
      " -3.9460119e-03 -1.3272560e-03 -4.8190230e-03  3.3973865e-03\n",
      " -3.7696911e-03  3.4193182e-03  1.9655016e-03  4.9800649e-03\n",
      " -3.6671136e-03  3.6955031e-03 -2.6656666e-03 -2.3253907e-03\n",
      " -1.5877617e-03  1.2137411e-03 -8.4954553e-04 -4.8593096e-03\n",
      " -2.3398525e-03 -7.4398849e-04 -1.6546688e-03 -1.9770702e-03\n",
      "  2.7949698e-03 -3.9698058e-03  2.2007355e-03  3.5261652e-03\n",
      " -3.4527495e-03 -4.0939460e-03 -1.6800476e-03 -1.9785508e-03\n",
      "  1.5715880e-03 -4.4962876e-03  3.3605264e-03  3.4248263e-03]\n",
      "日 0.6815384030342102\n",
      "実行 0.6163697242736816\n",
      "迷 0.5444649457931519\n",
      "便利 0.5273908972740173\n",
      "不学 0.49858495593070984\n",
      "解釈 0.48167964816093445\n",
      "米 0.47055840492248535\n",
      "吾 0.45354342460632324\n",
      "実例 0.4522525370121002\n",
      "拡張 0.44626933336257935\n"
     ]
    },
    {
     "name": "stderr",
     "output_type": "stream",
     "text": [
      "/home/k1r0hi/anaconda3/lib/python3.6/site-packages/gensim/matutils.py:737: FutureWarning: Conversion of the second argument of issubdtype from `int` to `np.signedinteger` is deprecated. In future, it will be treated as `np.int64 == np.dtype(int).type`.\n",
      "  if np.issubdtype(vec.dtype, np.int):\n"
     ]
    }
   ],
   "source": [
    "try_word2vec(\"fukuzawa_just_noun_list\", \"明日\", '希望')"
   ]
  },
  {
   "cell_type": "code",
   "execution_count": null,
   "metadata": {},
   "outputs": [],
   "source": []
  }
 ],
 "metadata": {
  "kernelspec": {
   "display_name": "Python 3",
   "language": "python",
   "name": "python3"
  },
  "language_info": {
   "codemirror_mode": {
    "name": "ipython",
    "version": 3
   },
   "file_extension": ".py",
   "mimetype": "text/x-python",
   "name": "python",
   "nbconvert_exporter": "python",
   "pygments_lexer": "ipython3",
   "version": "3.6.5"
  }
 },
 "nbformat": 4,
 "nbformat_minor": 2
}
