{
 "cells": [
  {
   "cell_type": "code",
   "execution_count": 7,
   "metadata": {},
   "outputs": [
    {
     "name": "stdout",
     "output_type": "stream",
     "text": [
      "['43029_23560.html']\n",
      "['43064_24679.html']\n",
      "['45257_18673.html']\n",
      "['45664_24680.html']\n",
      "['46684_26527.html']\n",
      "['46685_25534.html']\n",
      "['46686_25533.html']\n",
      "['46734_26143.html']\n",
      "['46826_24771.html']\n",
      "['46827_24773.html']\n",
      "['46848_42686.html']\n",
      "['46890_26144.html']\n",
      "['47030_26841.html']\n",
      "['47054_30634.html']\n",
      "['47061_29420.html']\n",
      "['47063_32088.html']\n",
      "['47149_27961.html']\n",
      "['47150_27962.html']\n",
      "['47151_27963.html']\n",
      "['47152_27964.html']\n",
      "['47219_34167.html']\n",
      "['47293_34170.html']\n",
      "['47295_28827.html']\n",
      "['47343_42900.html']\n",
      "['47353_42899.html']\n",
      "['49756_34168.html']\n",
      "['49757_34169.html']\n",
      "['49778_42211.html']\n",
      "['50273_35408.html']\n",
      "['50298_42685.html']\n",
      "['50307_35381.html']\n",
      "['50545_37054.html']\n",
      "['50553_37053.html']\n"
     ]
    }
   ],
   "source": [
    "import pandas as pd\n",
    "import csv\n",
    "\n",
    "#df_natsume = pd.read_csv('natsume_number.csv')\n",
    "#df_dazai = pd.read_csv('dazai_number.csv')\n",
    "\n",
    "df_fukuzawa = open(\"fukuzawa_number.csv\", \"r\")\n",
    "csv_data = csv.reader(df_fukuzawa)\n",
    "\n",
    "for e in csv_data:\n",
    "    print(e)\n",
    "    \n",
    "df_fukuzawa.close()"
   ]
  },
  {
   "cell_type": "code",
   "execution_count": null,
   "metadata": {},
   "outputs": [],
   "source": [
    "import re\n",
    "import subprocess\n",
    "\n",
    "with open('utf8_dazai.csv', 'w') as f_w:\n",
    "    with open('aozora_word_list_utf8.csv')as f_ao:\n",
    "        htmls = f_ao.readlines()\n",
    "        \n",
    "        with open('utf8_all.csv') as f_ut:\n",
    "            line = f_ut.readline()\n",
    "            while line:\n",
    "                line = line[:-1]\n",
    "                for html in htmls:\n",
    "                    dazai_line = re.search(\"^{}(.*)\".format(html), line)\n",
    "                    if dazai_line is not None:\n",
    "                        f_w.write(\"{}\\n\".format(line))\n",
    "                line = f_ut.readline()\n",
    "            "
   ]
  }
 ],
 "metadata": {
  "kernelspec": {
   "display_name": "Python 3",
   "language": "python",
   "name": "python3"
  },
  "language_info": {
   "codemirror_mode": {
    "name": "ipython",
    "version": 3
   },
   "file_extension": ".py",
   "mimetype": "text/x-python",
   "name": "python",
   "nbconvert_exporter": "python",
   "pygments_lexer": "ipython3",
   "version": "3.6.5"
  }
 },
 "nbformat": 4,
 "nbformat_minor": 2
}
