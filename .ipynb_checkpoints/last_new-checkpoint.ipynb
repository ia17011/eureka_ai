{
 "cells": [
  {
   "cell_type": "code",
   "execution_count": 1,
   "metadata": {},
   "outputs": [],
   "source": [
    "import csv\n",
    "import re\n",
    "\n",
    "def makeList(noun_csv_file):\n",
    "    word_list = []\n",
    "    tmp_list = []\n",
    "    file_name = \"\"\n",
    "    with open(\"{}\".format(noun_csv_file), \"r\") as n:\n",
    "        reader = csv.reader(n)\n",
    "\n",
    "        for words in reader:\n",
    "            if file_name == \"\":\n",
    "                file_name = words[0]\n",
    "                tmp_list.append(words[1])\n",
    "            elif file_name == words[0]:\n",
    "                tmp_list.append(words[1])\n",
    "            else:\n",
    "                file_name = words[0] \n",
    "                word_list.append(tmp_list)\n",
    "                tmp_list = [words[1]]\n",
    "\n",
    "\n",
    "            #print(dazai_word[0])\n",
    "            #html_line=re.match(\"\\['([^,]*)\")\n",
    "            #html = html_line.group(1)"
   ]
  },
  {
   "cell_type": "code",
   "execution_count": 5,
   "metadata": {},
   "outputs": [
    {
     "ename": "AttributeError",
     "evalue": "'function' object has no attribute 'word_list'",
     "output_type": "error",
     "traceback": [
      "\u001b[0;31m---------------------------------------------------------------------------\u001b[0m",
      "\u001b[0;31mAttributeError\u001b[0m                            Traceback (most recent call last)",
      "\u001b[0;32m<ipython-input-5-afa8bde59b1a>\u001b[0m in \u001b[0;36m<module>\u001b[0;34m()\u001b[0m\n\u001b[1;32m      1\u001b[0m \u001b[0mmakeList\u001b[0m\u001b[0;34m(\u001b[0m\u001b[0;34m\"dazai_noun.csv\"\u001b[0m\u001b[0;34m)\u001b[0m\u001b[0;34m\u001b[0m\u001b[0m\n\u001b[0;32m----> 2\u001b[0;31m \u001b[0mprint\u001b[0m\u001b[0;34m(\u001b[0m\u001b[0mmakeList\u001b[0m\u001b[0;34m.\u001b[0m\u001b[0mword_list\u001b[0m\u001b[0;34m)\u001b[0m\u001b[0;34m\u001b[0m\u001b[0m\n\u001b[0m",
      "\u001b[0;31mAttributeError\u001b[0m: 'function' object has no attribute 'word_list'"
     ]
    }
   ],
   "source": [
    "makeList(\"dazai_noun.csv\")"
   ]
  },
  {
   "cell_type": "code",
   "execution_count": null,
   "metadata": {},
   "outputs": [],
   "source": []
  }
 ],
 "metadata": {
  "kernelspec": {
   "display_name": "Python 3",
   "language": "python",
   "name": "python3"
  },
  "language_info": {
   "codemirror_mode": {
    "name": "ipython",
    "version": 3
   },
   "file_extension": ".py",
   "mimetype": "text/x-python",
   "name": "python",
   "nbconvert_exporter": "python",
   "pygments_lexer": "ipython3",
   "version": "3.6.5"
  }
 },
 "nbformat": 4,
 "nbformat_minor": 2
}
