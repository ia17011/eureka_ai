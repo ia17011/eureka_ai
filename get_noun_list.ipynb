{
 "cells": [
  {
   "cell_type": "code",
   "execution_count": 28,
   "metadata": {},
   "outputs": [],
   "source": [
    "#動かない\n",
    "import re\n",
    "import numpy as np\n",
    "import pandas as pd\n",
    "import os\n",
    "#from sklearn.feature_extraction.txt import CountVectorrizer\n",
    "#from sklearn.feature_extraction.txt import TfdfTransformer\n",
    "\n",
    "\n",
    "def getNone(in_name,out_name):\n",
    "    words = []\n",
    "    with open(\"{}\".format(out_name),'w')as f_out:\n",
    "        with open(\"{}\".format(in_name)) as f_in:\n",
    "            line = f_in.readline()\n",
    "            row_line = re.match(\"[^,]*,([^,]*)\",line)\n",
    "            row = row_line.group(1)\n",
    "            while line:\n",
    "                search_line = re.match(\"([^,]*,){3}([^,]*),([^,])\",line)\n",
    "                if search_line is not None:\n",
    "                    if search_line.group(3) == \"名詞\":\n",
    "                        words.append(search_line.group(2))\n",
    "                line = f_in.readline()\n",
    "                row_line = re.match(\"[^]*,([^,]*)\",line)\n",
    "                if row_line is None:\n",
    "                    f_out.write(\"{}\\n\".format(words))\n",
    "                    break\n",
    "    print(words)\n",
    "#getNone(\"43029_23560.csv\", \"43029_23560_noun.csv\")"
   ]
  },
  {
   "cell_type": "code",
   "execution_count": 29,
   "metadata": {},
   "outputs": [],
   "source": [
    "#$ cat *> in.csv\n",
    "#getNone(\"43029_23560.csv\", \"43029_23560_noun.csv\")"
   ]
  },
  {
   "cell_type": "code",
   "execution_count": 30,
   "metadata": {},
   "outputs": [
    {
     "ename": "FileNotFoundError",
     "evalue": "[Errno 2] No such file or directory: 'works_file'",
     "output_type": "error",
     "traceback": [
      "\u001b[0;31m---------------------------------------------------------------------------\u001b[0m",
      "\u001b[0;31mFileNotFoundError\u001b[0m                         Traceback (most recent call last)",
      "\u001b[0;32m<ipython-input-30-ddd74dbd55ae>\u001b[0m in \u001b[0;36m<module>\u001b[0;34m()\u001b[0m\n\u001b[1;32m      1\u001b[0m \u001b[0;32mfor\u001b[0m \u001b[0m_\u001b[0m \u001b[0;32min\u001b[0m \u001b[0mrange\u001b[0m\u001b[0;34m(\u001b[0m\u001b[0;36m180\u001b[0m\u001b[0;34m)\u001b[0m\u001b[0;34m:\u001b[0m\u001b[0;34m\u001b[0m\u001b[0m\n\u001b[0;32m----> 2\u001b[0;31m     \u001b[0mdirectory\u001b[0m \u001b[0;34m=\u001b[0m \u001b[0mos\u001b[0m\u001b[0;34m.\u001b[0m\u001b[0mlistdir\u001b[0m\u001b[0;34m(\u001b[0m\u001b[0;34m'works_file'\u001b[0m\u001b[0;34m)\u001b[0m\u001b[0;34m\u001b[0m\u001b[0m\n\u001b[0m\u001b[1;32m      3\u001b[0m     \u001b[0;32mfor\u001b[0m \u001b[0mfile_name\u001b[0m \u001b[0;32min\u001b[0m \u001b[0mdirectory\u001b[0m\u001b[0;34m:\u001b[0m\u001b[0;34m\u001b[0m\u001b[0m\n\u001b[1;32m      4\u001b[0m         \u001b[0mprint\u001b[0m\u001b[0;34m(\u001b[0m\u001b[0mfile_name\u001b[0m\u001b[0;34m)\u001b[0m\u001b[0;34m\u001b[0m\u001b[0m\n\u001b[1;32m      5\u001b[0m         \u001b[0mgetNone\u001b[0m\u001b[0;34m(\u001b[0m\u001b[0mfile_name\u001b[0m\u001b[0;34m,\u001b[0m \u001b[0;34m\"{}{}.csv\"\u001b[0m\u001b[0;34m.\u001b[0m\u001b[0mformat\u001b[0m\u001b[0;34m(\u001b[0m\u001b[0mfile_name\u001b[0m\u001b[0;34m,\u001b[0m \u001b[0;34m\"_new\"\u001b[0m\u001b[0;34m)\u001b[0m\u001b[0;34m)\u001b[0m\u001b[0;34m\u001b[0m\u001b[0m\n",
      "\u001b[0;31mFileNotFoundError\u001b[0m: [Errno 2] No such file or directory: 'works_file'"
     ]
    }
   ],
   "source": [
    "for _ in range(180):\n",
    "    directory = os.listdir('works_file')\n",
    "    for file_name in directory:\n",
    "        print(file_name)\n",
    "        getNone(file_name, \"{}{}.csv\".format(file_name, \"_new\"))"
   ]
  },
  {
   "cell_type": "code",
   "execution_count": null,
   "metadata": {},
   "outputs": [],
   "source": [
    "import csv\n",
    "\n",
    "works_num_file = input() #fukuzawa_number(.csv)\n",
    "with open(\"{}.csv\".format(works_num_file)) as w_num_file:\n",
    "    reader = csv.reader(w_num_file)\n",
    "    for title_num in reader:\n",
    "        print(title_num)\n",
    "        \n",
    "    for s in title_num:\n",
    "        title_num_list.extend(s)\n",
    "            \n",
    "        print(title_num)\n",
    "        \n",
    "    with open(\"{}.csv\".format(title_num)) as title_num:\n",
    "        for title_file in title_num:\n",
    "            s = \"cat utf8_all.csv | grep {} > {}.csv\".format(title_file)"
   ]
  },
  {
   "cell_type": "code",
   "execution_count": null,
   "metadata": {},
   "outputs": [],
   "source": []
  }
 ],
 "metadata": {
  "kernelspec": {
   "display_name": "Python 3",
   "language": "python",
   "name": "python3"
  },
  "language_info": {
   "codemirror_mode": {
    "name": "ipython",
    "version": 3
   },
   "file_extension": ".py",
   "mimetype": "text/x-python",
   "name": "python",
   "nbconvert_exporter": "python",
   "pygments_lexer": "ipython3",
   "version": "3.6.5"
  }
 },
 "nbformat": 4,
 "nbformat_minor": 2
}
